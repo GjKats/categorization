{
 "cells": [
  {
   "cell_type": "markdown",
   "metadata": {},
   "source": [
    "Part 1: K-Nearest-Neighbor (KNN) classification\n",
    "\n",
    "First Import and prepare the data"
   ]
  },
  {
   "cell_type": "code",
   "execution_count": 28,
   "metadata": {
    "collapsed": false
   },
   "outputs": [],
   "source": [
    "import numpy as np\n",
    "import pandas as pd\n",
    "import math # used for the TFxIDF calculation"
   ]
  },
  {
   "cell_type": "code",
   "execution_count": 29,
   "metadata": {
    "collapsed": false
   },
   "outputs": [],
   "source": [
    "#cd OneDrive/Ross/CSC478/hw2/data/newsgroups/"
   ]
  },
  {
   "cell_type": "code",
   "execution_count": 30,
   "metadata": {
    "collapsed": false
   },
   "outputs": [],
   "source": [
    "# import the data sets\n",
    "    # training and test data\n",
    "train_data = np.genfromtxt('trainMatrixModified.txt',delimiter='\\t')\n",
    "test_data = np.genfromtxt('testMatrixModified.txt',delimiter='\\t')\n",
    "    # training and test targets\n",
    "train_targets = np.genfromtxt('trainClasses.txt',delimiter='\\t')\n",
    "test_targets = np.genfromtxt('testClasses.txt',delimiter='\\t')\n",
    "\n",
    "    # omit the index from the targets\n",
    "train_targets = train_targets[:,1]\n",
    "test_targets = test_targets[:,1]\n",
    "\n",
    "# transpose the data so that the documents are the rows\n",
    "train_data = train_data.T\n",
    "test_data = test_data.T\n"
   ]
  },
  {
   "cell_type": "code",
   "execution_count": 31,
   "metadata": {
    "collapsed": false
   },
   "outputs": [],
   "source": [
    "# normalize each attribute (term), these are now the columns\n",
    "\n",
    "for i in range(0,train_data.shape[1]): # dor for each column (term)\n",
    "    term = train_data[:,i]\n",
    "    min_term = term.min()\n",
    "    max_term = term.max()\n",
    "    \n",
    "    # normalize the training data\n",
    "    norm_term = [(x-min_term)/(max_term-min_term) for x in term]\n",
    "    train_data[:,i] = norm_term\n",
    "    \n",
    "    # normalize the test data with the same parameters\n",
    "    term = test_data[:,i]\n",
    "    norm_term = [(x-min_term)/(max_term-min_term) for x in term]\n",
    "    test_data[:,i] = norm_term\n",
    "    "
   ]
  },
  {
   "cell_type": "markdown",
   "metadata": {},
   "source": [
    "a) Create your own KNN classifier."
   ]
  },
  {
   "cell_type": "code",
   "execution_count": 32,
   "metadata": {
    "collapsed": false
   },
   "outputs": [],
   "source": [
    "def knn_search(x,D,L,K,measure):\n",
    "    '''\n",
    "    x: instance tobe  classified\n",
    "    D: training data\n",
    "    L: training labels\n",
    "    K: nearest neighbors\n",
    "    meausre: distance methodology\n",
    "    '''\n",
    "    \n",
    "    if measure == 0:\n",
    "        # euclidean distances\n",
    "        dists = np.sqrt(((D-x)**2).sum(axis=1))\n",
    "    elif measure == 1:\n",
    "        D_norm = np.array([np.linalg.norm(D[i]) for i in range(len(D))])\n",
    "        x_norm = np.linalg.norm(x)\n",
    "        sims = np.dot(D,x)/(D_norm * x_norm)\n",
    "        dists = 1 - sims\n",
    "    idx = np.argsort(dists) # sorting\n",
    "    \n",
    "    # define an index for the top K matches\n",
    "    match_index = idx[:K]\n",
    "    \n",
    "    # calculate the predicted class for the instance based on total distance for the class\n",
    "    prediction_dict = {}\n",
    "    for i in range(0,K):\n",
    "        # populate a dictionary to keep the distances for each of the predicted values\n",
    "        if L[match_index[i]] in prediction_dict:\n",
    "            prediction_dict[L[match_index[i]]] = prediction_dict[L[match_index[i]]] + dists[match_index[i]]\n",
    "        else:\n",
    "            prediction_dict[L[match_index[i]]] = dists[match_index[i]]\n",
    "    \n",
    "    # determine the predicted value with the largest weight\n",
    "    predicted_class = min(prediction_dict, key=prediction_dict.get)\n",
    "    top_k_neighbors = D[match_index]\n",
    "        \n",
    "    # return the indexes of teh K nearest neighbors\n",
    "    return predicted_class, top_k_neighbors"
   ]
  },
  {
   "cell_type": "code",
   "execution_count": 33,
   "metadata": {
    "collapsed": false
   },
   "outputs": [
    {
     "name": "stdout",
     "output_type": "stream",
     "text": [
      "The predicted class is:  1.0\n",
      "The K nearest neighbors are:\n",
      "[[ 0.  0.  0. ...,  0.  0.  0.]\n",
      " [ 0.  0.  0. ...,  0.  0.  0.]\n",
      " [ 0.  0.  0. ...,  0.  0.  0.]\n",
      " [ 0.  0.  0. ...,  0.  0.  0.]\n",
      " [ 0.  0.  0. ...,  0.  0.  0.]]\n"
     ]
    }
   ],
   "source": [
    "pclass, neighbors = knn_search(test_data[0], train_data,train_targets,5,1)\n",
    "\n",
    "print 'The predicted class is: ', pclass\n",
    "print 'The K nearest neighbors are:\\n', neighbors\n"
   ]
  },
  {
   "cell_type": "markdown",
   "metadata": {},
   "source": [
    "b) Create a function to compute the classification accuracy over the test data set"
   ]
  },
  {
   "cell_type": "code",
   "execution_count": 34,
   "metadata": {
    "collapsed": false
   },
   "outputs": [],
   "source": [
    "def test_accuracy(t,D,L,T,K,measure):\n",
    "    '''\n",
    "    t: test data \n",
    "    D: training data\n",
    "    L: training targets\n",
    "    T: test targets\n",
    "    K: nearest neighbors\n",
    "    meausre: distance methodology\n",
    "    '''\n",
    "    \n",
    "    correct_answers = 0\n",
    "    for i in range(0,t.shape[0]): # perform for each document (row) in the test data\n",
    "        predicted_class = knn_search(t[i],D,L,K,measure)[0]\n",
    "        actual_class = T[i]\n",
    "        if predicted_class == actual_class:\n",
    "            correct_answers = correct_answers + 1\n",
    "\n",
    "    return correct_answers * 1.0 / t.shape[0]*1.0 # correct answers divided by total test intances\n"
   ]
  },
  {
   "cell_type": "markdown",
   "metadata": {},
   "source": [
    "c) Run your accuracy function on a range of values for K in order to compare accuracy values for different numbers of neighbors. Do this both using Euclidean Distance as well as Cosine similarity measure."
   ]
  },
  {
   "cell_type": "code",
   "execution_count": 35,
   "metadata": {
    "collapsed": false
   },
   "outputs": [
    {
     "name": "stdout",
     "output_type": "stream",
     "text": [
      "Euclidean Distance Analysis:\n",
      "\n",
      "\n",
      "Accuracy with 1 neighbors: 0.705\n",
      "\n",
      "Accuracy with 2 neighbors: 0.705\n",
      "\n",
      "Accuracy with 3 neighbors: 0.485\n",
      "\n",
      "Accuracy with 4 neighbors: 0.505\n",
      "\n",
      "Accuracy with 5 neighbors: 0.455\n",
      "\n",
      "Accuracy with 6 neighbors: 0.48\n",
      "\n",
      "Accuracy with 7 neighbors: 0.46\n",
      "\n",
      "Accuracy with 8 neighbors: 0.485\n",
      "\n",
      "Accuracy with 9 neighbors: 0.475\n",
      "\n",
      "Accuracy with 10 neighbors: 0.49\n",
      "\n",
      "Accuracy with 11 neighbors: 0.485\n",
      "\n",
      "Accuracy with 12 neighbors: 0.495\n",
      "\n",
      "Accuracy with 13 neighbors: 0.475\n",
      "\n",
      "Accuracy with 14 neighbors: 0.485\n",
      "\n",
      "Accuracy with 15 neighbors: 0.485\n",
      "\n",
      "Accuracy with 16 neighbors: 0.48\n",
      "\n",
      "Accuracy with 17 neighbors: 0.48\n",
      "\n",
      "Accuracy with 18 neighbors: 0.495\n",
      "\n",
      "Accuracy with 19 neighbors: 0.5\n",
      "\n",
      "Accuracy with 20 neighbors: 0.5\n",
      "\n",
      "\n",
      "\n",
      "Cosine Similarity Measure:\n",
      "\n",
      "\n",
      "Accuracy with 1 neighbors: 0.95\n",
      "\n",
      "Accuracy with 2 neighbors: 0.95\n",
      "\n",
      "Accuracy with 3 neighbors: 0.84\n",
      "\n",
      "Accuracy with 4 neighbors: 0.765\n",
      "\n",
      "Accuracy with 5 neighbors: 0.685\n",
      "\n",
      "Accuracy with 6 neighbors: 0.595\n",
      "\n",
      "Accuracy with 7 neighbors: 0.56\n",
      "\n",
      "Accuracy with 8 neighbors: 0.545\n",
      "\n",
      "Accuracy with 9 neighbors: 0.465\n",
      "\n",
      "Accuracy with 10 neighbors: 0.44\n",
      "\n",
      "Accuracy with 11 neighbors: 0.385\n",
      "\n",
      "Accuracy with 12 neighbors: 0.35\n",
      "\n",
      "Accuracy with 13 neighbors: 0.31\n",
      "\n",
      "Accuracy with 14 neighbors: 0.28\n",
      "\n",
      "Accuracy with 15 neighbors: 0.25\n",
      "\n",
      "Accuracy with 16 neighbors: 0.23\n",
      "\n",
      "Accuracy with 17 neighbors: 0.22\n",
      "\n",
      "Accuracy with 18 neighbors: 0.215\n",
      "\n",
      "Accuracy with 19 neighbors: 0.195\n",
      "\n",
      "Accuracy with 20 neighbors: 0.2\n",
      "\n"
     ]
    }
   ],
   "source": [
    "print 'Euclidean Distance Analysis:\\n\\n'\n",
    "K = 1\n",
    "while K < 21:\n",
    "    accuracy = test_accuracy(test_data,train_data,train_targets,test_targets,K,0)\n",
    "    print 'Accuracy with %s neighbors: %s\\n' % (K,accuracy)\n",
    "    K = K + 1\n",
    "\n",
    "print '\\n\\nCosine Similarity Measure:\\n\\n'\n",
    "K = 1\n",
    "while K < 21:\n",
    "    accuracy = test_accuracy(test_data,train_data,train_targets,test_targets,K,1)\n",
    "    print 'Accuracy with %s neighbors: %s\\n' % (K,accuracy)\n",
    "    K = K + 1\n",
    "    "
   ]
  },
  {
   "cell_type": "markdown",
   "metadata": {},
   "source": [
    "d) Using Python, modify the training and test data sets so that term weights are converted to TFxIDF weights (instead of raw term frequencies)"
   ]
  },
  {
   "cell_type": "code",
   "execution_count": 36,
   "metadata": {
    "collapsed": false
   },
   "outputs": [],
   "source": [
    "# reload the data\n",
    "train_data = np.genfromtxt('trainMatrixModified.txt',delimiter='\\t')\n",
    "test_data = np.genfromtxt('testMatrixModified.txt',delimiter='\\t')\n",
    "\n",
    "# first create an array with the count of docs that contain each term\n",
    "    # train\n",
    "train_data_hold = train_data\n",
    "term_found = train_data_hold<>0\n",
    "train_data_hold[term_found] = 1\n",
    "train_term_freq_array = train_data_hold.sum(axis=1) # sum across the documents (columns) for each row (term)\n",
    "\n",
    "    # test\n",
    "test_data_hold = test_data\n",
    "term_found = test_data_hold<>0\n",
    "test_data_hold[term_found] = 1\n",
    "test_term_freq_array = test_data_hold.sum(axis=1) # sum across the documents (columns) for each row (term)"
   ]
  },
  {
   "cell_type": "code",
   "execution_count": 37,
   "metadata": {
    "collapsed": false
   },
   "outputs": [],
   "source": [
    "# transform the training and test data for TFxIDF\n",
    "    # training\n",
    "for i in range(0,train_data.shape[0]): # rows\n",
    "        for j in range(0,train_data.shape[1]): # columns\n",
    "            train_data[i,j] = train_data[i,j] * math.log((train_data.shape[1]/train_term_freq_array[i]),2)\n",
    "    # test\n",
    "for i in range(0,test_data.shape[0]): # rows\n",
    "        for j in range(0,test_data.shape[1]): # columns\n",
    "            # note that the training data is again used as the IDF portion to transform the test data\n",
    "            test_data[i,j] = test_data[i,j] * math.log((train_data.shape[1]/train_term_freq_array[i]),2) \n",
    "            \n",
    "# transpose the data so that the documents are the rows\n",
    "train_data = train_data.T\n",
    "test_data = test_data.T"
   ]
  },
  {
   "cell_type": "markdown",
   "metadata": {},
   "source": [
    "d) Continued ... Then, rerun your evaluation on the range of K values (as above) and compare the results to the results without using TFxIDF weights."
   ]
  },
  {
   "cell_type": "code",
   "execution_count": 38,
   "metadata": {
    "collapsed": false
   },
   "outputs": [
    {
     "name": "stdout",
     "output_type": "stream",
     "text": [
      "Euclidean Distance Analysis:\n",
      "\n",
      "\n",
      "Accuracy with 1 neighbors: 0.635\n",
      "\n",
      "Accuracy with 2 neighbors: 0.635\n",
      "\n",
      "Accuracy with 3 neighbors: 0.405\n",
      "\n",
      "Accuracy with 4 neighbors: 0.485\n",
      "\n",
      "Accuracy with 5 neighbors: 0.445\n",
      "\n",
      "Accuracy with 6 neighbors: 0.485\n",
      "\n",
      "Accuracy with 7 neighbors: 0.485\n",
      "\n",
      "Accuracy with 8 neighbors: 0.46\n",
      "\n",
      "Accuracy with 9 neighbors: 0.445\n",
      "\n",
      "Accuracy with 10 neighbors: 0.49\n",
      "\n",
      "Accuracy with 11 neighbors: 0.495\n",
      "\n",
      "Accuracy with 12 neighbors: 0.5\n",
      "\n",
      "Accuracy with 13 neighbors: 0.505\n",
      "\n",
      "Accuracy with 14 neighbors: 0.505\n",
      "\n",
      "Accuracy with 15 neighbors: 0.505\n",
      "\n",
      "Accuracy with 16 neighbors: 0.505\n",
      "\n",
      "Accuracy with 17 neighbors: 0.505\n",
      "\n",
      "Accuracy with 18 neighbors: 0.505\n",
      "\n",
      "Accuracy with 19 neighbors: 0.51\n",
      "\n",
      "Accuracy with 20 neighbors: 0.505\n",
      "\n",
      "\n",
      "\n",
      "Cosine Similarity Measure:\n",
      "\n",
      "\n",
      "Accuracy with 1 neighbors: 0.985\n",
      "\n",
      "Accuracy with 2 neighbors: 0.985\n",
      "\n",
      "Accuracy with 3 neighbors: 0.94\n",
      "\n",
      "Accuracy with 4 neighbors: 0.91\n",
      "\n",
      "Accuracy with 5 neighbors: 0.875\n",
      "\n",
      "Accuracy with 6 neighbors: 0.83\n",
      "\n",
      "Accuracy with 7 neighbors: 0.81\n",
      "\n",
      "Accuracy with 8 neighbors: 0.78\n",
      "\n",
      "Accuracy with 9 neighbors: 0.75\n",
      "\n",
      "Accuracy with 10 neighbors: 0.71\n",
      "\n",
      "Accuracy with 11 neighbors: 0.68\n",
      "\n",
      "Accuracy with 12 neighbors: 0.665\n",
      "\n",
      "Accuracy with 13 neighbors: 0.635\n",
      "\n",
      "Accuracy with 14 neighbors: 0.595\n",
      "\n",
      "Accuracy with 15 neighbors: 0.56\n",
      "\n",
      "Accuracy with 16 neighbors: 0.55\n",
      "\n",
      "Accuracy with 17 neighbors: 0.525\n",
      "\n",
      "Accuracy with 18 neighbors: 0.51\n",
      "\n",
      "Accuracy with 19 neighbors: 0.49\n",
      "\n",
      "Accuracy with 20 neighbors: 0.475\n",
      "\n"
     ]
    }
   ],
   "source": [
    "print 'Euclidean Distance Analysis:\\n\\n'\n",
    "K = 1\n",
    "while K < 21:\n",
    "    accuracy = test_accuracy(test_data,train_data,train_targets,test_targets,K,0)\n",
    "    print 'Accuracy with %s neighbors: %s\\n' % (K,accuracy)\n",
    "    K = K + 1\n",
    "\n",
    "print '\\n\\nCosine Similarity Measure:\\n\\n'\n",
    "K = 1\n",
    "while K < 21:\n",
    "    accuracy = test_accuracy(test_data,train_data,train_targets,test_targets,K,1)\n",
    "    print 'Accuracy with %s neighbors: %s\\n' % (K,accuracy)\n",
    "    K = K + 1"
   ]
  },
  {
   "cell_type": "markdown",
   "metadata": {},
   "source": [
    "<b /b>\n",
    "As expected, we see an improve on categorization accuracy when we use a cosine similarity measures on the data that has been transformed with TFxIDF weights.\n",
    "\n",
    "The cosine similarity measure works well with text classification because it does not reward the 0-0 \"match\" if the term is found in neither document.  The TFxIDF transformation because it helps to counter the \"zipf\" distribution by giving higher weights to words that are more rare across the document set."
   ]
  },
  {
   "cell_type": "code",
   "execution_count": 39,
   "metadata": {
    "collapsed": true
   },
   "outputs": [],
   "source": [
    "def rocchio_train(TD,TT):\n",
    "    '''\n",
    "    TD: training data\n",
    "    TT: training targets\n",
    "    '''\n",
    "    \n",
    "    # create indecies for the windows and hockey categories\n",
    "    windows_mask = TT==0\n",
    "    # split the training data by category\n",
    "    train_windows = TD[windows_mask]\n",
    "    \n",
    "    hockey_mask = TT==1\n",
    "    train_hockey = TD[hockey_mask]\n",
    "    \n",
    "    # sum the frequencies across all the documents for each term\n",
    "    c0_prototype = train_windows.sum(axis=0) # sum the counts of each term down each column (term)\n",
    "    c1_prototype = train_hockey.sum(axis=0)\n",
    "    \n",
    "    # now, both prototype vectors are the same size (5500L,)\n",
    "\n",
    "    return c0_prototype, c1_prototype"
   ]
  },
  {
   "cell_type": "code",
   "execution_count": 40,
   "metadata": {
    "collapsed": true
   },
   "outputs": [],
   "source": [
    "def rocchio_classify(x,P):\n",
    "    '''\n",
    "    x: instance to be classified\n",
    "    P: dictionary of prototype vectors where the class is the key\n",
    "    '''\n",
    "    m = -2 # initialize maximum cosSim\n",
    "    for c in P: # perform for each prototype vector passed\n",
    "        D = P[c]\n",
    "        D_norm = np.linalg.norm(D)\n",
    "        x_norm = np.linalg.norm(x)\n",
    "        sims = np.dot(D,x)/(D_norm * x_norm)\n",
    "        if sims > m:\n",
    "            m = sims\n",
    "            predicted_class = c\n",
    "        \n",
    "    # return the predicted class and the similarity of the test intance to the prototype vector of the predicted class\n",
    "    return predicted_class, P[predicted_class]"
   ]
  },
  {
   "cell_type": "code",
   "execution_count": 41,
   "metadata": {
    "collapsed": false
   },
   "outputs": [
    {
     "name": "stdout",
     "output_type": "stream",
     "text": [
      "1\n",
      "[ 96.          34.18250634  44.25349666 ...,   8.64385619   0.           0.        ]\n"
     ]
    }
   ],
   "source": [
    "# define a dictionary for the prototype vectors\n",
    "prototype_dict = {}\n",
    "c0_prototype, c1_prototype = rocchio_train(train_data,train_targets) # input has been converted to TFIDF and is D(row)T(col)\n",
    "prototype_dict[0] = c0_prototype\n",
    "prototype_dict[1] = c1_prototype\n",
    "\n",
    "predicted_class, sims = rocchio_classify(test_data[0],prototype_dict)\n",
    "print predicted_class\n",
    "print sims"
   ]
  },
  {
   "cell_type": "code",
   "execution_count": 42,
   "metadata": {
    "collapsed": true
   },
   "outputs": [],
   "source": [
    "def test_accuracy_rocchio(t,T,P):\n",
    "    '''\n",
    "    t: test data \n",
    "    T: test targets\n",
    "    P: prototype dictionary\n",
    "    '''\n",
    "    \n",
    "    correct_answers = 0\n",
    "    for i in range(0,t.shape[0]): # perform for each document (row) in the test data\n",
    "        predicted_class = rocchio_classify(t[i],P)[0]\n",
    "        actual_class = T[i]\n",
    "        if predicted_class == actual_class:\n",
    "            correct_answers = correct_answers + 1\n",
    "\n",
    "    return correct_answers * 1.0 / t.shape[0]*1.0 # correct answers divided by total test intances"
   ]
  },
  {
   "cell_type": "markdown",
   "metadata": {},
   "source": [
    "d) continued .. \n",
    "\n",
    "Finally, compute the classification accuracy using the test instances and compare your results to the best KNN approach you tried earlier."
   ]
  },
  {
   "cell_type": "code",
   "execution_count": 43,
   "metadata": {
    "collapsed": false
   },
   "outputs": [
    {
     "name": "stdout",
     "output_type": "stream",
     "text": [
      "0.99\n"
     ]
    }
   ],
   "source": [
    "# define a dictionary for the prototype vectors\n",
    "prototype_dict = {}\n",
    "c0_prototype, c1_prototype = rocchio_train(train_data,train_targets) # input has been converted to TFIDF and is D(row)T(col)\n",
    "prototype_dict[0] = c0_prototype\n",
    "prototype_dict[1] = c1_prototype\n",
    "\n",
    "# determine the accuracy of the Rocchio method\n",
    "rocchio_accuracy = test_accuracy_rocchio(test_data,test_targets,prototype_dict)\n",
    "print rocchio_accuracy"
   ]
  },
  {
   "cell_type": "markdown",
   "metadata": {},
   "source": [
    "<b Comparison between Roccihio and k nearest neighbor methods /b>\n",
    "\n",
    "Our best performance with the KNN approach was after we translated the data to TFxIDF and include one or two neighbors -- this performance was just shy of 99%\n",
    "\n",
    "With the Roccihio method, we see also see an accuracy of 99% which is consistent with the best performance among our KNN models."
   ]
  },
  {
   "cell_type": "markdown",
   "metadata": {},
   "source": [
    "Part 2: Classification using scikit-learn "
   ]
  },
  {
   "cell_type": "markdown",
   "metadata": {},
   "source": [
    "a) Load and preprocess the data using Numpy or Pandas and the preprocessing functions from scikit-learn. "
   ]
  },
  {
   "cell_type": "code",
   "execution_count": 44,
   "metadata": {
    "collapsed": true
   },
   "outputs": [],
   "source": [
    "from sklearn.cross_validation import train_test_split\n",
    "from sklearn import preprocessing\n",
    "from sklearn import neighbors\n",
    "from sklearn.metrics import classification_report\n",
    "from sklearn.metrics import confusion_matrix\n",
    "\n",
    "import matplotlib.pyplot as plt\n",
    "%matplotlib inline"
   ]
  },
  {
   "cell_type": "code",
   "execution_count": 45,
   "metadata": {
    "collapsed": true
   },
   "outputs": [],
   "source": [
    "# load the data\n",
    "bank = pd.read_csv(\"bank_data.csv\", index_col=0)\n",
    "\n",
    "# convert the data to standard spreadsheet format \n",
    "std_bank = pd.get_dummies(bank)\n",
    "# define the pep_NO attribute as the target\n",
    "std_bank_targets = std_bank.pep_NO\n",
    "# delete the pep_YES and pep_NO columns from the dataset\n",
    "std_bank = std_bank.drop('pep_YES', 1) # 0 for rows and 1 for columns\n",
    "std_bank = std_bank.drop('pep_NO', 1) \n",
    "\n",
    "# split the data into randomized 80% 20% training and test split\n",
    "bank_train, bank_test, bank_target_train, bank_target_test = train_test_split(std_bank, std_bank_targets, test_size=0.2, random_state=33)"
   ]
  },
  {
   "cell_type": "markdown",
   "metadata": {},
   "source": [
    "b) Run scikit-learn's KNN classifier on the test set. "
   ]
  },
  {
   "cell_type": "code",
   "execution_count": 46,
   "metadata": {
    "collapsed": false
   },
   "outputs": [
    {
     "data": {
      "image/png": "[encoded data removed]",
      "text/plain": [
       "<matplotlib.figure.Figure at 0x128f4a8>"
      ]
     },
     "metadata": {},
     "output_type": "display_data"
    },
    {
     "name": "stdout",
     "output_type": "stream",
     "text": [
      "Classification Report KNN: \n",
      "             precision    recall  f1-score   support\n",
      "\n",
      "        0.0       0.63      0.57      0.60        54\n",
      "        1.0       0.68      0.73      0.70        66\n",
      "\n",
      "avg / total       0.66      0.66      0.66       120\n",
      "\n",
      "Average Accuracy Score - KNN - Train Set:  1.0\n",
      "Average Accuracy Score - KNN - Test Set:  0.658333333333\n"
     ]
    }
   ],
   "source": [
    "# must first normalize the data on a 0-1 scale (based on the training data)\n",
    "min_max_scaler = preprocessing.MinMaxScaler().fit(bank_train)\n",
    "bank_train_norm = min_max_scaler.transform(bank_train)\n",
    "bank_test_norm = min_max_scaler.transform(bank_test)\n",
    "\n",
    "# now run the knn classifier\n",
    "n_neighbors = 5\n",
    "knnclf = neighbors.KNeighborsClassifier(n_neighbors, weights='distance')\n",
    "knnclf.fit(bank_train_norm, bank_target_train)\n",
    "\n",
    "knnpreds_test = knnclf.predict(bank_test_norm)\n",
    "\n",
    "# generate the confusion matrix\n",
    "knncm = (confusion_matrix(bank_target_test, knnpreds_test))\n",
    "\n",
    "# visualize the confusion matrix\n",
    "plt.matshow(knncm)\n",
    "plt.title('Confusion matrix - KNN')\n",
    "plt.colorbar()\n",
    "plt.ylabel('Actual')\n",
    "plt.xlabel('Predicted')\n",
    "plt.show()\n",
    "\n",
    "# generate the classification report\n",
    "print 'Classification Report KNN: \\n', classification_report(bank_target_test, knnpreds_test)\n",
    "\n",
    "# compute the average accuracy score\n",
    "print 'Average Accuracy Score - KNN - Train Set: ', knnclf.score(bank_train_norm, bank_target_train)\n",
    "print 'Average Accuracy Score - KNN - Test Set: ', knnclf.score(bank_test_norm, bank_target_test)\n"
   ]
  },
  {
   "cell_type": "markdown",
   "metadata": {},
   "source": [
    "b) continued .. Experiment with different values of K and the weight parameter for KNN"
   ]
  },
  {
   "cell_type": "code",
   "execution_count": 47,
   "metadata": {
    "collapsed": false
   },
   "outputs": [
    {
     "name": "stdout",
     "output_type": "stream",
     "text": [
      "Varying K with weights=distance\n",
      "\n",
      "accuracy k = 1 weight = distance:  0.633333333333\n",
      "accuracy k = 2 weight = distance:  0.633333333333\n",
      "accuracy k = 3 weight = distance:  0.641666666667\n",
      "accuracy k = 4 weight = distance:  0.641666666667\n",
      "accuracy k = 5 weight = distance:  0.658333333333\n",
      "accuracy k = 6 weight = distance:  0.65\n",
      "accuracy k = 7 weight = distance:  0.65\n",
      "accuracy k = 8 weight = distance:  0.633333333333\n",
      "accuracy k = 9 weight = distance:  0.65\n",
      "accuracy k = 10 weight = distance:  0.65\n",
      "\n",
      "Varying K with weights=uniform\n",
      "\n",
      "accuracy k = 1 weight = uniform:  0.633333333333\n",
      "accuracy k = 2 weight = uniform:  0.583333333333\n",
      "accuracy k = 3 weight = uniform:  0.658333333333\n",
      "accuracy k = 4 weight = uniform:  0.575\n",
      "accuracy k = 5 weight = uniform:  0.666666666667\n",
      "accuracy k = 6 weight = uniform:  0.583333333333\n",
      "accuracy k = 7 weight = uniform:  0.65\n",
      "accuracy k = 8 weight = uniform:  0.633333333333\n",
      "accuracy k = 9 weight = uniform:  0.675\n",
      "accuracy k = 10 weight = uniform:  0.608333333333\n"
     ]
    }
   ],
   "source": [
    "# Experiment with different values of K and the weight parameter for KNN \n",
    "print 'Varying K with weights=distance\\n'\n",
    "for n in range(1,11):\n",
    "    knnclf = neighbors.KNeighborsClassifier(n, weights='distance')\n",
    "    knnclf.fit(bank_train_norm, bank_target_train)\n",
    "    print 'accuracy k = ' + str(n) + ' weight = distance: ', knnclf.score(bank_test_norm, bank_target_test)\n",
    "    \n",
    "print '\\nVarying K with weights=uniform\\n'\n",
    "for n in range(1,11):\n",
    "    knnclf = neighbors.KNeighborsClassifier(n, weights='uniform')\n",
    "    knnclf.fit(bank_train_norm, bank_target_train)\n",
    "    print 'accuracy k = ' + str(n) + ' weight = uniform: ', knnclf.score(bank_test_norm, bank_target_test)"
   ]
  },
  {
   "cell_type": "markdown",
   "metadata": {},
   "source": [
    "<b /b>\n",
    "From my brief experiments, the best accuracy I found was 67.5% which came from using 9 nearest neighbors and uniform weights"
   ]
  },
  {
   "cell_type": "markdown",
   "metadata": {},
   "source": [
    "c) Repeat the classification using scikit-learn's decision tree classifier "
   ]
  },
  {
   "cell_type": "code",
   "execution_count": 48,
   "metadata": {
    "collapsed": false
   },
   "outputs": [
    {
     "data": {
      "image/png": "[encoded data removed]",
      "text/plain": [
       "<matplotlib.figure.Figure at 0x215285f8>"
      ]
     },
     "metadata": {},
     "output_type": "display_data"
    },
    {
     "name": "stdout",
     "output_type": "stream",
     "text": [
      "Classification Report - Decision Tree: \n",
      "             precision    recall  f1-score   support\n",
      "\n",
      "        0.0       0.81      0.78      0.79        54\n",
      "        1.0       0.82      0.85      0.84        66\n",
      "\n",
      "avg / total       0.82      0.82      0.82       120\n",
      "\n",
      "Average Accuracy Score - Decision Tree - Train Set:  0.710416666667\n",
      "Average Accuracy Score - Decision Tree - Test Set:  0.691666666667\n"
     ]
    }
   ],
   "source": [
    "from sklearn import tree\n",
    "\n",
    "# create a decision tree object\n",
    "treeclf = tree.DecisionTreeClassifier(criterion='entropy')\n",
    "\n",
    "# fit the model to our training data\n",
    "treeclf = treeclf.fit(bank_train, bank_target_train) # \n",
    "\n",
    "# make predictions about the test data\n",
    "treepreds_test = treeclf.predict(bank_test)\n",
    "\n",
    "# genderate confusion matrix\n",
    "treecm = (confusion_matrix(bank_target_test, treepreds_test))\n",
    "\n",
    "# visualize the confusion matrix\n",
    "plt.matshow(treecm)\n",
    "plt.title('Confusion matrix - Decision Tree')\n",
    "plt.colorbar()\n",
    "plt.ylabel('Actual')\n",
    "plt.xlabel('Predicted')\n",
    "plt.show()\n",
    "\n",
    "# generate the classification report\n",
    "print 'Classification Report - Decision Tree: \\n', classification_report(bank_target_test, treepreds_test)\n",
    "\n",
    "# compute the average accuracy score\n",
    "print 'Average Accuracy Score - Decision Tree - Train Set: ', treeclf.score(bank_train_norm, bank_target_train)\n",
    "print 'Average Accuracy Score - Decision Tree - Test Set: ', treeclf.score(bank_test_norm, bank_target_test)"
   ]
  },
  {
   "cell_type": "markdown",
   "metadata": {},
   "source": [
    "c) continued ... and the naive Bayes (Gaussian) classifier"
   ]
  },
  {
   "cell_type": "code",
   "execution_count": 49,
   "metadata": {
    "collapsed": false
   },
   "outputs": [
    {
     "data": {
      "image/png": "[encoded data removed]",
      "text/plain": [
       "<matplotlib.figure.Figure at 0x1f13e4e0>"
      ]
     },
     "metadata": {},
     "output_type": "display_data"
    },
    {
     "name": "stdout",
     "output_type": "stream",
     "text": [
      "Classification Report - Decision Tree: \n",
      "             precision    recall  f1-score   support\n",
      "\n",
      "        0.0       0.56      0.41      0.47        54\n",
      "        1.0       0.60      0.74      0.67        66\n",
      "\n",
      "avg / total       0.59      0.59      0.58       120\n",
      "\n",
      "Average Accuracy Score - Naive Bayes - Train Set:  0.5375\n",
      "Average Accuracy Score - Naive Bayes - Test Set:  0.55\n"
     ]
    }
   ],
   "source": [
    "from sklearn import naive_bayes\n",
    "\n",
    "nbclf = naive_bayes.GaussianNB()\n",
    "nbclf = nbclf.fit(bank_train, bank_target_train)\n",
    "nbpreds_test = nbclf.predict(bank_test)\n",
    "\n",
    "# genderate confusion matrix\n",
    "nbcm = (confusion_matrix(bank_target_test, nbpreds_test))\n",
    "\n",
    "# visualize the confusion matrix\n",
    "plt.matshow(nbcm)\n",
    "plt.title('Confusion matrix - Naive Bayes')\n",
    "plt.colorbar()\n",
    "plt.ylabel('Actual')\n",
    "plt.xlabel('Predicted')\n",
    "plt.show()\n",
    "\n",
    "# generate the classification report\n",
    "print 'Classification Report - Decision Tree: \\n', classification_report(bank_target_test, nbpreds_test)\n",
    "\n",
    "# compute the average accuracy score\n",
    "print 'Average Accuracy Score - Naive Bayes - Train Set: ', nbclf.score(bank_train_norm, bank_target_train)\n",
    "print 'Average Accuracy Score - Naive Bayes - Test Set: ', nbclf.score(bank_test_norm, bank_target_test)"
   ]
  },
  {
   "cell_type": "markdown",
   "metadata": {},
   "source": [
    "<b />\n",
    "In all cases except our Naive Bayes classifier, the accuracy on the training set is higher than the accuracy on our test set.  This suggests over fitting to the training set"
   ]
  },
  {
   "cell_type": "markdown",
   "metadata": {},
   "source": [
    "d) Discuss your observations based on the above experiments."
   ]
  },
  {
   "cell_type": "markdown",
   "metadata": {},
   "source": [
    "<b />\n",
    "Overall, the best performing classfier for the test data was the decision tree at 69% accuracy on the training set.  This model also had the smallest discrepancy between accuracy on the training set and accuracy on the test set.\n",
    "\n",
    "Our worst performing model on the training set was our Naive Bayes classifier at only 55% accuracy on the test set.  I'm franky not entirely sure why the performance of this model was so poor but will be interested to learn more about the implications in class."
   ]
  },
  {
   "cell_type": "markdown",
   "metadata": {},
   "source": [
    "Part 3: Data Analysis and Predictive Modeling on Census data"
   ]
  },
  {
   "cell_type": "markdown",
   "metadata": {},
   "source": [
    "a) Preprocessing and data analysis"
   ]
  },
  {
   "cell_type": "code",
   "execution_count": 50,
   "metadata": {
    "collapsed": false
   },
   "outputs": [],
   "source": [
    "import matplotlib.pyplot as plt\n",
    "%matplotlib inline\n",
    "\n",
    "# load the data, replacing missing values (?) with NaN\n",
    "census = pd.read_csv(\"adult-modified.csv\", na_values=[\"?\"]) \n",
    "# rename column headers to remove the '-' character\n",
    "census.columns = ['age', 'workclass', 'education', 'marital_status', 'race', 'sex','hours_per_week', 'income']\n",
    "\n",
    "# In the case of numeric attributes, impute and fill-in the missing values using the attribute mean\n",
    "    # age\n",
    "age_mean = census.age.mean()\n",
    "census.age.fillna(age_mean, axis=0, inplace=True)\n",
    "    # education\n",
    "edu_mean = census.education.mean()\n",
    "census.education.fillna(edu_mean, axis=0, inplace=True)\n",
    "    # age\n",
    "age_mean = census.age.mean()\n",
    "census.age.fillna(age_mean, axis=0, inplace=True)\n",
    "    # hours_per_week\n",
    "hpw_mean = census.hours_per_week.mean()\n",
    "census.hours_per_week.fillna(hpw_mean, axis=0, inplace=True)\n",
    "\n",
    "# In case of categorical attributes, remove instances with missing values. \n",
    "# Note that only missing values left are categorical\n",
    "census.dropna(axis=0, inplace=True)"
   ]
  },
  {
   "cell_type": "markdown",
   "metadata": {},
   "source": [
    "a) continued ... Examine the characteristics of the attributes, including relevant statistics for each attribute, histograms illustrating the distribtions of numeric attributes, bar graphs showing value counts for categorical attributes, etc."
   ]
  },
  {
   "cell_type": "code",
   "execution_count": 51,
   "metadata": {
    "collapsed": false
   },
   "outputs": [
    {
     "name": "stdout",
     "output_type": "stream",
     "text": [
      "               age    education  hours_per_week\n",
      "count  9412.000000  9412.000000     9412.000000\n",
      "mean     38.366342    10.125266       41.080217\n",
      "std      12.962039     2.542118       11.884590\n",
      "min      17.000000     1.000000        1.000000\n",
      "25%      28.000000     9.000000       40.000000\n",
      "50%      37.000000    10.000000       40.000000\n",
      "75%      47.000000    13.000000       45.000000\n",
      "max      90.000000    16.000000       99.000000\n"
     ]
    }
   ],
   "source": [
    "# generally describe the statistics of the numerical attributes\n",
    "print census.describe()"
   ]
  },
  {
   "cell_type": "code",
   "execution_count": 52,
   "metadata": {
    "collapsed": false
   },
   "outputs": [
    {
     "data": {
      "text/plain": [
       "(array([  165.,   546.,   634.,  5145.,   950.,  1172.,   567.,   137.,\n",
       "           64.,    32.]),\n",
       " array([  1. ,  10.8,  20.6,  30.4,  40.2,  50. ,  59.8,  69.6,  79.4,\n",
       "         89.2,  99. ]),\n",
       " <a list of 10 Patch objects>)"
      ]
     },
     "execution_count": 52,
     "metadata": {},
     "output_type": "execute_result"
    },
    {
     "data": {
      "image/png": "[encoded data removed]",
      "text/plain": [
       "<matplotlib.figure.Figure at 0x1f154208>"
      ]
     },
     "metadata": {},
     "output_type": "display_data"
    }
   ],
   "source": [
    "# generate histograms to describe the distrubution of numerical attributes\n",
    "fig = plt.figure(figsize=(15,4))\n",
    "    # age\n",
    "ax1 = fig.add_subplot(131)\n",
    "ax1.set_xlabel('Age')\n",
    "ax1.set_ylabel('Count')\n",
    "ax1.set_title('Histogram of Age Distribution')\n",
    "plt.hist(census.age)\n",
    "    # edcuation\n",
    "ax2 = fig.add_subplot(132)\n",
    "ax2.set_xlabel('Education')\n",
    "ax2.set_ylabel('Count')\n",
    "ax2.set_title('Histogram of Education Years Distribution')\n",
    "plt.hist(census.education)\n",
    "    # hours_per_week\n",
    "ax3 = fig.add_subplot(133)\n",
    "ax3.set_xlabel('Hours Per Week')\n",
    "ax3.set_ylabel('Count')\n",
    "ax3.set_title('Histogram of Hours Per Week Distribution')\n",
    "plt.hist(census.hours_per_week)"
   ]
  },
  {
   "cell_type": "code",
   "execution_count": 53,
   "metadata": {
    "collapsed": false
   },
   "outputs": [
    {
     "data": {
      "text/plain": [
       "<matplotlib.axes._subplots.AxesSubplot at 0xceb8320>"
      ]
     },
     "execution_count": 53,
     "metadata": {},
     "output_type": "execute_result"
    },
    {
     "data": {
      "image/png": "[encoded data removed]",
      "text/plain": [
       "<matplotlib.figure.Figure at 0x182c1588>"
      ]
     },
     "metadata": {},
     "output_type": "display_data"
    }
   ],
   "source": [
    "# generate bar graphs showing value counts for categorical attributes\n",
    "fig = plt.figure(figsize=(15,15))\n",
    "# workclass\n",
    "ax1 = fig.add_subplot(321)\n",
    "census.workclass.value_counts().plot(kind='bar',title='Counts of Work Class')\n",
    "# marital_status\n",
    "ax2 = fig.add_subplot(322)\n",
    "census.marital_status.value_counts().plot(kind='bar',title='Counts of Work Marital Status')\n",
    "# race\n",
    "ax3 = fig.add_subplot(323)\n",
    "census.race.value_counts().plot(kind='bar',title='Counts of Race')\n",
    "# sex\n",
    "ax4 = fig.add_subplot(324)\n",
    "census.sex.value_counts().plot(kind='bar',title='Counts of Sex')\n",
    "# income\n",
    "ax5 = fig.add_subplot(325)\n",
    "census.income.value_counts().plot(kind='bar',title='Counts of Income')"
   ]
  },
  {
   "cell_type": "markdown",
   "metadata": {},
   "source": [
    "a) continued .. Perform the following cross-tabulations (including generating bar charts): education+race, work-class+income, work-class+race, and race+income"
   ]
  },
  {
   "cell_type": "code",
   "execution_count": 54,
   "metadata": {
    "collapsed": false
   },
   "outputs": [
    {
     "data": {
      "text/plain": [
       "<matplotlib.axes._subplots.AxesSubplot at 0x171c64e0>"
      ]
     },
     "execution_count": 54,
     "metadata": {},
     "output_type": "execute_result"
    },
    {
     "data": {
      "image/png": "[encoded data removed]",
      "text/plain": [
       "<matplotlib.figure.Figure at 0xfa794a8>"
      ]
     },
     "metadata": {},
     "output_type": "display_data"
    },
    {
     "data": {
      "image/png": "[encoded data removed]",
      "text/plain": [
       "<matplotlib.figure.Figure at 0xfa87a90>"
      ]
     },
     "metadata": {},
     "output_type": "display_data"
    },
    {
     "data": {
      "image/png": "[encoded data removed]",
      "text/plain": [
       "<matplotlib.figure.Figure at 0xfa87550>"
      ]
     },
     "metadata": {},
     "output_type": "display_data"
    },
    {
     "data": {
      "image/png": "[encoded data removed]",
      "text/plain": [
       "<matplotlib.figure.Figure at 0xfa873c8>"
      ]
     },
     "metadata": {},
     "output_type": "display_data"
    }
   ],
   "source": [
    "    # education race\n",
    "pd.crosstab(census.education, census.race).plot(kind='bar',title='Education to Race Crosstab')\n",
    "    # workclass - income\n",
    "pd.crosstab(census.workclass, census.income).plot(kind='bar',title='Work Class to Income Crosstab')\n",
    "    # workclass - race\n",
    "pd.crosstab(census.workclass, census.race).plot(kind='bar',title='Work Class to Race Crosstab')\n",
    "    # race-income\n",
    "pd.crosstab(census.race, census.income).plot(kind='bar',title='Race to Income Crosstab')\n"
   ]
  },
  {
   "cell_type": "markdown",
   "metadata": {},
   "source": [
    "a) continued .. In the latter case (race+income) also create a table or chart showing percentages of each race category that fall in the low-income group."
   ]
  },
  {
   "cell_type": "code",
   "execution_count": 55,
   "metadata": {
    "collapsed": false
   },
   "outputs": [
    {
     "data": {
      "text/plain": [
       "<matplotlib.axes._subplots.AxesSubplot at 0x1dfa6668>"
      ]
     },
     "execution_count": 55,
     "metadata": {},
     "output_type": "execute_result"
    },
    {
     "data": {
      "image/png": "[encoded data removed]",
      "text/plain": [
       "<matplotlib.figure.Figure at 0x190ba438>"
      ]
     },
     "metadata": {},
     "output_type": "display_data"
    }
   ],
   "source": [
    "all_race = census.race.value_counts()\n",
    "low_race = census[census.income == '<=50K'].race.value_counts()\n",
    "(low_race / all_race).plot(kind='bar',title='Percentage of each Race in Low Income Group')"
   ]
  },
  {
   "cell_type": "markdown",
   "metadata": {},
   "source": [
    "<b /b>\n",
    "Overall, we see that a large percentage of respondents from each category fall into the low income category.  The race group with the lowest percentage of low income respondents is \"White,\" while the race group with the largest percentage of low income respondents is \"Hispanic.\""
   ]
  },
  {
   "cell_type": "markdown",
   "metadata": {},
   "source": [
    "a) continued .. Compare and contrast the characteristics of the low-income and high-income categories across the different attributes. "
   ]
  },
  {
   "cell_type": "code",
   "execution_count": 56,
   "metadata": {
    "collapsed": false
   },
   "outputs": [
    {
     "name": "stdout",
     "output_type": "stream",
     "text": [
      "Low income numerical attributes:\n",
      "               age    education  hours_per_week\n",
      "count  7093.000000  7093.000000     7093.000000\n",
      "mean     36.644604     9.646976       39.567038\n",
      "std      13.340142     2.397358       11.868506\n",
      "min      17.000000     1.000000        1.000000\n",
      "25%      26.000000     9.000000       38.000000\n",
      "50%      35.000000     9.000000       40.000000\n",
      "75%      45.000000    10.000000       40.000000\n",
      "max      90.000000    16.000000       99.000000\n",
      "\n",
      "High income numerical attributes:\n",
      "               age    education  hours_per_week\n",
      "count  2319.000000  2319.000000     2319.000000\n",
      "mean     43.632531    11.588185       45.708495\n",
      "std      10.042135     2.410764       10.678794\n",
      "min      19.000000     2.000000        1.000000\n",
      "25%      36.000000     9.000000       40.000000\n",
      "50%      43.000000    12.000000       40.000000\n",
      "75%      50.000000    13.000000       50.000000\n",
      "max      90.000000    16.000000       99.000000\n"
     ]
    }
   ],
   "source": [
    "# for this section we're going to split the census data into two groups -- one low one high -- and then perform the same\n",
    "# we did above on each group to compare their characteristics\n",
    "\n",
    "# split the census\n",
    "census_low = census[census.income == '<=50K']\n",
    "census_high = census[census.income == '>50K']\n",
    "\n",
    "# calculate the numerical attributes\n",
    "print 'Low income numerical attributes:\\n', census_low.describe()\n",
    "print '\\nHigh income numerical attributes:\\n', census_high.describe()"
   ]
  },
  {
   "cell_type": "code",
   "execution_count": 57,
   "metadata": {
    "collapsed": false
   },
   "outputs": [
    {
     "data": {
      "text/plain": [
       "<matplotlib.axes._subplots.AxesSubplot at 0xa9613c8>"
      ]
     },
     "execution_count": 57,
     "metadata": {},
     "output_type": "execute_result"
    },
    {
     "data": {
      "image/png": "[encoded data removed]",
      "text/plain": [
       "<matplotlib.figure.Figure at 0x165870f0>"
      ]
     },
     "metadata": {},
     "output_type": "display_data"
    }
   ],
   "source": [
    "# generate bar charts to compare distributions of the categorical attributes cross low and high incomes\n",
    "low_income_race = census_low.race.value_counts()\n",
    "high_income_race = census_high.race.value_counts()\n",
    "\n",
    "low_income_workclass = census_low.workclass.value_counts()\n",
    "high_income_workclass = census_high.workclass.value_counts()\n",
    "\n",
    "low_income_marital_status = census_low.marital_status.value_counts()\n",
    "high_income_marital_status = census_high.marital_status.value_counts()\n",
    "\n",
    "low_income_sex = census_low.sex.value_counts()\n",
    "high_income_sex = census_high.sex.value_counts()\n",
    "\n",
    "\n",
    "fig = plt.figure(figsize=(15,30))\n",
    "# race\n",
    "ax1 = fig.add_subplot(421)\n",
    "low_income_race.plot(kind='bar',title='Counts of Race for Low Income')\n",
    "ax2 = fig.add_subplot(422)\n",
    "high_income_race.plot(kind='bar',title='Counts of Race for High Income')\n",
    "\n",
    "# workclass\n",
    "ax3 = fig.add_subplot(423)\n",
    "low_income_workclass.plot(kind='bar',title='Counts of Work Class for Low Income')\n",
    "ax4 = fig.add_subplot(424)\n",
    "high_income_workclass.plot(kind='bar',title='Counts of Work Class for High Income')\n",
    "\n",
    "# marital_status\n",
    "ax5 = fig.add_subplot(425)\n",
    "low_income_marital_status.plot(kind='bar',title='Counts of Marital Status for Low Income')\n",
    "ax6 = fig.add_subplot(426)\n",
    "high_income_marital_status.plot(kind='bar',title='Counts of Marital Status for High Income')\n",
    "\n",
    "# sex\n",
    "ax7 = fig.add_subplot(427)\n",
    "low_income_sex.plot(kind='bar',title='Counts of Sex for Low Income')\n",
    "ax8 = fig.add_subplot(428)\n",
    "high_income_sex.plot(kind='bar',title='Counts of Sex for High Income')"
   ]
  },
  {
   "cell_type": "markdown",
   "metadata": {},
   "source": [
    "<b /b>\n",
    "If look strictly at the numerical attributes, we can see that the higher income respondents are on average older, more educated, and work more hours per week.  These attributes can perhaps be expected for higher earning individuals.\n",
    "\n",
    "For the categorical attributes, it's helpful to look at the distribution of each across the high and low earning groups.  Here, there doesn't appear to be a significant difference in this distribution across race.  However, it does appear that the higher income workers are more concentrated in the self-emplyed and public working classes than the higher income respondents.\n",
    "\n",
    "Similarly, higher income respondents appear to be more likely to be single that single.  Finally, we see that the distribution of sexes is more heavily geard toward females in the lower earning group "
   ]
  },
  {
   "cell_type": "markdown",
   "metadata": {},
   "source": [
    "b) Predictive Modeling and Model Evaluation"
   ]
  },
  {
   "cell_type": "code",
   "execution_count": 58,
   "metadata": {
    "collapsed": false
   },
   "outputs": [
    {
     "name": "stderr",
     "output_type": "stream",
     "text": [
      "C:\\Anaconda2\\lib\\site-packages\\sklearn\\lda.py:4: DeprecationWarning: lda.LDA has been moved to discriminant_analysis.LinearDiscriminantAnalysis in 0.17 and will be removed in 0.19\n",
      "  \"in 0.17 and will be removed in 0.19\", DeprecationWarning)\n"
     ]
    },
    {
     "name": "stdout",
     "output_type": "stream",
     "text": [
      "Overall Accuracy - Naive Bayes: 0.72 (+/- 0.02)\n",
      "Overall Accuracy - Decision Tree: 0.77 (+/- 0.03)\n",
      "Overall Accuracy - LDA: 0.81 (+/- 0.02)\n"
     ]
    },
    {
     "name": "stderr",
     "output_type": "stream",
     "text": [
      "C:\\Anaconda2\\lib\\site-packages\\sklearn\\discriminant_analysis.py:387: UserWarning: Variables are collinear.\n",
      "  warnings.warn(\"Variables are collinear.\")\n"
     ]
    }
   ],
   "source": [
    "from sklearn import naive_bayes\n",
    "from sklearn import cross_validation\n",
    "from sklearn.lda import LDA\n",
    "\n",
    "# convert the data to a standard spreadsheet format\n",
    "census_std = pd.get_dummies(census)\n",
    "# define the target attribute (high income)\n",
    "census_target = census_std['income_>50K'] \n",
    "# drop income attributes from the data set\n",
    "census_std = census_std.drop('income_<=50K', 1) # 0 for rows and 1 for columns\n",
    "census_std = census_std.drop('income_>50K', 1)\n",
    "\n",
    "# define the models\n",
    "nbclf = naive_bayes.GaussianNB()\n",
    "treeclf = tree.DecisionTreeClassifier(criterion='entropy')\n",
    "ldclf = LDA()\n",
    "\n",
    "# define the scores\n",
    "cv_nb_scores = cross_validation.cross_val_score(nbclf, census_std, census_target, cv=10)\n",
    "cv_tree_scores = cross_validation.cross_val_score(treeclf, census_std, census_target, cv=10)\n",
    "cv_ld_scores = cross_validation.cross_val_score(ldclf, census_std, census_target, cv=10)\n",
    "\n",
    "# print the results\n",
    "print(\"Overall Accuracy - Naive Bayes: %0.2f (+/- %0.2f)\" % (cv_nb_scores.mean(), cv_nb_scores.std() * 2))\n",
    "print(\"Overall Accuracy - Decision Tree: %0.2f (+/- %0.2f)\" % (cv_tree_scores.mean(), cv_tree_scores.std() * 2))\n",
    "print(\"Overall Accuracy - LDA: %0.2f (+/- %0.2f)\" % (cv_ld_scores.mean(), cv_ld_scores.std() * 2))"
   ]
  }
 ],
 "metadata": {
  "anaconda-cloud": {},
  "kernelspec": {
   "display_name": "Python [Root]",
   "language": "python",
   "name": "Python [Root]"
  },
  "language_info": {
   "codemirror_mode": {
    "name": "ipython",
    "version": 2
   },
   "file_extension": ".py",
   "mimetype": "text/x-python",
   "name": "python",
   "nbconvert_exporter": "python",
   "pygments_lexer": "ipython2",
   "version": "2.7.12"
  }
 },
 "nbformat": 4,
 "nbformat_minor": 0
}
